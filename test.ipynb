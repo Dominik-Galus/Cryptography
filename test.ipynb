{
 "cells": [
  {
   "cell_type": "code",
   "execution_count": 2,
   "metadata": {},
   "outputs": [
    {
     "name": "stdout",
     "output_type": "stream",
     "text": [
      "16984889805269860106013778777157256029083250737663853865104634033466076136964608649706589189256842874325949385801864319212279411187787643470114320950704402184684884912206911767446383114532314505248455190762345328245087115517905274531827198247621743409979290943824433653398236074533337870828987489068730719945 88924663208303036613671401474192952335768670095764162551602084191325601521691819794531226350287624221175607866169889777824313353561155314113048883549396738406405636209423532748471824996905613760647186913156962357894489632393124416483829692758573351967316228657387980230966277799421563335989292554808196100877\n"
     ]
    }
   ],
   "source": [
    "with open(\"rsa_private_key_1.txt\", \"r\") as key_file:\n",
    "    keys = key_file.read().split()\n",
    "    d: int = int(keys[0])\n",
    "    n: int = int(keys[1])\n",
    "    \n",
    "print(d, n)"
   ]
  },
  {
   "cell_type": "code",
   "execution_count": null,
   "metadata": {},
   "outputs": [],
   "source": []
  }
 ],
 "metadata": {
  "kernelspec": {
   "display_name": ".env",
   "language": "python",
   "name": "python3"
  },
  "language_info": {
   "codemirror_mode": {
    "name": "ipython",
    "version": 3
   },
   "file_extension": ".py",
   "mimetype": "text/x-python",
   "name": "python",
   "nbconvert_exporter": "python",
   "pygments_lexer": "ipython3",
   "version": "3.11.2"
  }
 },
 "nbformat": 4,
 "nbformat_minor": 2
}
