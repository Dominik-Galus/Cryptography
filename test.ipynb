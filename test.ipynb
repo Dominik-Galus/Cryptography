{
 "cells": [
  {
   "cell_type": "code",
   "execution_count": 1,
   "metadata": {},
   "outputs": [
    {
     "ename": "TypeError",
     "evalue": "GoodFactory.create_key() missing 1 required positional argument: 'bits'",
     "output_type": "error",
     "traceback": [
      "\u001b[0;31m---------------------------------------------------------------------------\u001b[0m",
      "\u001b[0;31mTypeError\u001b[0m                                 Traceback (most recent call last)",
      "Cell \u001b[0;32mIn[1], line 19\u001b[0m\n\u001b[1;32m     16\u001b[0m         \u001b[38;5;28mself\u001b[39m\u001b[38;5;241m.\u001b[39msymmetric_key_type \u001b[38;5;241m=\u001b[39m key_type\n\u001b[1;32m     17\u001b[0m         GoodFactory\u001b[38;5;241m.\u001b[39mcreate_key(\u001b[38;5;28mself\u001b[39m\u001b[38;5;241m.\u001b[39msymmetric_key_type)\n\u001b[0;32m---> 19\u001b[0m server \u001b[38;5;241m=\u001b[39m \u001b[43mServer\u001b[49m\u001b[43m(\u001b[49m\u001b[43mAES\u001b[49m\u001b[43m)\u001b[49m\n",
      "Cell \u001b[0;32mIn[1], line 17\u001b[0m, in \u001b[0;36mServer.__init__\u001b[0;34m(self, key_type)\u001b[0m\n\u001b[1;32m     15\u001b[0m \u001b[38;5;28;01mdef\u001b[39;00m \u001b[38;5;21m__init__\u001b[39m(\u001b[38;5;28mself\u001b[39m, key_type: Symmetric) \u001b[38;5;241m-\u001b[39m\u001b[38;5;241m>\u001b[39m \u001b[38;5;28;01mNone\u001b[39;00m:\n\u001b[1;32m     16\u001b[0m     \u001b[38;5;28mself\u001b[39m\u001b[38;5;241m.\u001b[39msymmetric_key_type \u001b[38;5;241m=\u001b[39m key_type\n\u001b[0;32m---> 17\u001b[0m     \u001b[43mGoodFactory\u001b[49m\u001b[38;5;241;43m.\u001b[39;49m\u001b[43mcreate_key\u001b[49m\u001b[43m(\u001b[49m\u001b[38;5;28;43mself\u001b[39;49m\u001b[38;5;241;43m.\u001b[39;49m\u001b[43msymmetric_key_type\u001b[49m\u001b[43m)\u001b[49m\n",
      "\u001b[0;31mTypeError\u001b[0m: GoodFactory.create_key() missing 1 required positional argument: 'bits'"
     ]
    }
   ],
   "source": [
    "from symmetric import Symmetric\n",
    "from keyfactory import KeyFactory\n",
    "from aes import AES\n",
    "\n",
    "class GoodFactory(KeyFactory):\n",
    "    \n",
    "    @staticmethod\n",
    "    def create_key(key_type: Symmetric, bits: int) -> Symmetric:\n",
    "        if type(key_type) == AES:\n",
    "            return AES(bits)\n",
    "\n",
    "\n",
    "\n",
    "class Server:\n",
    "    def __init__(self, key_type: Symmetric) -> None:\n",
    "        self.symmetric_key_type = key_type\n",
    "        GoodFactory.create_key(self.symmetric_key_type)\n",
    "        \n",
    "server = Server(AES)\n"
   ]
  },
  {
   "cell_type": "code",
   "execution_count": null,
   "metadata": {},
   "outputs": [],
   "source": []
  }
 ],
 "metadata": {
  "kernelspec": {
   "display_name": ".env",
   "language": "python",
   "name": "python3"
  },
  "language_info": {
   "codemirror_mode": {
    "name": "ipython",
    "version": 3
   },
   "file_extension": ".py",
   "mimetype": "text/x-python",
   "name": "python",
   "nbconvert_exporter": "python",
   "pygments_lexer": "ipython3",
   "version": "3.11.2"
  }
 },
 "nbformat": 4,
 "nbformat_minor": 2
}
