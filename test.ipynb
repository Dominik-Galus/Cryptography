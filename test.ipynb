{
 "cells": [
  {
   "cell_type": "code",
   "execution_count": 8,
   "metadata": {},
   "outputs": [
    {
     "name": "stdout",
     "output_type": "stream",
     "text": [
      "['<', '\\x10', 'É', '³', '5', 'k', '³', '\\x16', '<', 'F', 'Ê', '/', '\\x8b', '\\n', 'ô', '\\x0f']\n"
     ]
    }
   ],
   "source": [
    "import numpy as np\n",
    "\n",
    "x = np.array([[ 60,  16, 201, 179],\n",
    "    [ 53, 107, 179,  22],\n",
    "    [ 60,  70, 202,  47],\n",
    "    [139, 10, 244,  15]])\n",
    "\n",
    "p = [str(byte) for byte in x.flatten()]\n",
    "print(p)"
   ]
  }
 ],
 "metadata": {
  "kernelspec": {
   "display_name": ".env",
   "language": "python",
   "name": "python3"
  },
  "language_info": {
   "codemirror_mode": {
    "name": "ipython",
    "version": 3
   },
   "file_extension": ".py",
   "mimetype": "text/x-python",
   "name": "python",
   "nbconvert_exporter": "python",
   "pygments_lexer": "ipython3",
   "version": "3.11.2"
  }
 },
 "nbformat": 4,
 "nbformat_minor": 2
}
